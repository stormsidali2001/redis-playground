{
 "cells": [
  {
   "cell_type": "markdown",
   "id": "2792312a",
   "metadata": {},
   "source": [
    "# TP : Panier D'achat avec  Redis/Python For Esi-Sba 2SC students (2022-2023)"
   ]
  },
  {
   "cell_type": "markdown",
   "id": "655846c2",
   "metadata": {},
   "source": [
    "### Importer redis\n"
   ]
  },
  {
   "cell_type": "code",
   "execution_count": null,
   "id": "1ac65ac9",
   "metadata": {},
   "outputs": [],
   "source": [
    "import redis"
   ]
  },
  {
   "cell_type": "markdown",
   "id": "ea7f4f97",
   "metadata": {},
   "source": [
    "### Se connecter au server Redis (docker container)"
   ]
  },
  {
   "cell_type": "code",
   "execution_count": null,
   "id": "f5d65b55",
   "metadata": {},
   "outputs": [],
   "source": [
    "r = redis.StrictRedis(host='localhost', port=6379, db=0, decode_responses=True)"
   ]
  },
  {
   "cell_type": "markdown",
   "id": "dfd59859",
   "metadata": {},
   "source": [
    "### Réinitialiser la base de données en supprimant toutes les clés"
   ]
  },
  {
   "cell_type": "code",
   "execution_count": null,
   "id": "014af74f",
   "metadata": {},
   "outputs": [],
   "source": [
    "## compléter le code ici (1 ligne)\n"
   ]
  },
  {
   "cell_type": "markdown",
   "id": "c1cf4572",
   "metadata": {},
   "source": [
    "### Méthode Ajouter client()\n",
    "#### r.incr('client_id'): permet  d'incrémenter la variable client_id\n",
    "#### utiliser le \"client_id\" pour stocker le couple(\"client_i\", \"cart_i\")"
   ]
  },
  {
   "cell_type": "code",
   "execution_count": null,
   "id": "fde81041",
   "metadata": {},
   "outputs": [],
   "source": [
    "def add_Client():  \n",
    " r.incr('client_id')\n",
    " cid = r.get('client_id')\n",
    " r.set('client_'+cid, 'cart_'+cid)"
   ]
  },
  {
   "cell_type": "markdown",
   "id": "51062fad",
   "metadata": {},
   "source": [
    "### ajouter un client et l'afficher"
   ]
  },
  {
   "cell_type": "code",
   "execution_count": null,
   "id": "ddcf1bd3",
   "metadata": {},
   "outputs": [],
   "source": [
    "add_Client()\n",
    "print(r.get('client_1'))"
   ]
  },
  {
   "cell_type": "markdown",
   "id": "a3951744",
   "metadata": {},
   "source": [
    "### Ajouter deux autres clients et les afficher"
   ]
  },
  {
   "cell_type": "code",
   "execution_count": null,
   "id": "d23d3e5d",
   "metadata": {},
   "outputs": [],
   "source": [
    "## compléter le code ici (4 ligne)"
   ]
  },
  {
   "cell_type": "markdown",
   "id": "dd18707e",
   "metadata": {},
   "source": [
    "### Méthode Ajouter Produit (name, price)"
   ]
  },
  {
   "cell_type": "code",
   "execution_count": null,
   "id": "0acf1243",
   "metadata": {},
   "outputs": [],
   "source": [
    "def add_Product(name, price):\n",
    " ##  incrémenter la valuer du  produit_id (1 ligne)\n",
    " ##  récuprer la valeur du produit_id (1 ligne)\n",
    " ##  insèrer le name\n",
    " ##  insérer le price"
   ]
  },
  {
   "cell_type": "markdown",
   "id": "271ded7a",
   "metadata": {},
   "source": [
    "### Ajouter des produits à la base"
   ]
  },
  {
   "cell_type": "code",
   "execution_count": null,
   "id": "6bb7bf60",
   "metadata": {},
   "outputs": [],
   "source": [
    "add_Product('pepsi','100')\n",
    "add_Product('coko-cola','120')\n",
    "## ajouter d'autres produits"
   ]
  },
  {
   "cell_type": "markdown",
   "id": "0b42fc17",
   "metadata": {},
   "source": [
    "### Afficher les différents couple produits"
   ]
  },
  {
   "cell_type": "code",
   "execution_count": null,
   "id": "1b605c10",
   "metadata": {},
   "outputs": [],
   "source": [
    "##  complèter le code "
   ]
  },
  {
   "cell_type": "markdown",
   "id": "7c1c40ee",
   "metadata": {},
   "source": [
    "### Méthode ajouter un produit à un panier en indiquant son \"id\" et sa \"qte\""
   ]
  },
  {
   "cell_type": "code",
   "execution_count": null,
   "id": "8488c201",
   "metadata": {},
   "outputs": [],
   "source": [
    "def add_ProductToCart(idcart, idproduit, qte):\n",
    " ## complèter le code (1 ligne)"
   ]
  },
  {
   "cell_type": "markdown",
   "id": "1e351208",
   "metadata": {},
   "source": [
    "### remplir certains paniers"
   ]
  },
  {
   "cell_type": "code",
   "execution_count": null,
   "id": "12556cd0",
   "metadata": {},
   "outputs": [],
   "source": [
    "add_ProductToCart('cart_1','produit_1',10)\n",
    "add_ProductToCart('cart_1','produit_2',1)\n",
    "\n",
    "add_ProductToCart('cart_2','produit_2',2)\n",
    "add_ProductToCart('cart_2','produit_1',3)\n",
    "\n",
    "## remplir d'autres paniers"
   ]
  },
  {
   "cell_type": "markdown",
   "id": "d02ba541",
   "metadata": {},
   "source": [
    "### Afficher le contenu des paniers"
   ]
  },
  {
   "cell_type": "code",
   "execution_count": null,
   "id": "92541be0",
   "metadata": {},
   "outputs": [],
   "source": [
    "print(r.hgetall('cart_1'))\n",
    "print(r.hgetall('cart_2'))"
   ]
  },
  {
   "cell_type": "markdown",
   "id": "720e5d19",
   "metadata": {},
   "source": [
    "### Méthode Calculer le total d'un panier en indiquant le \"cart_i\""
   ]
  },
  {
   "cell_type": "code",
   "execution_count": null,
   "id": "407f54c9",
   "metadata": {},
   "outputs": [],
   "source": [
    "def compute_total(idcart):\n",
    "     cart_list= ## la liste de tous les paniers\n",
    "     total=0   \n",
    "     for idp in cart_list:\n",
    "         ## recupérer la qte d'un produit\n",
    "         ## récupérer le price d'un produit\n",
    "         total+=qte*price\n",
    "     return total    "
   ]
  },
  {
   "cell_type": "markdown",
   "id": "7b3975cf",
   "metadata": {},
   "source": [
    "### Afficher le total de certains paniers"
   ]
  },
  {
   "cell_type": "code",
   "execution_count": null,
   "id": "5bd056d3",
   "metadata": {},
   "outputs": [],
   "source": [
    "print(compute_total('cart_1'))\n",
    "print(compute_total('cart_2'))"
   ]
  }
 ],
 "metadata": {
  "kernelspec": {
   "display_name": "Python 3 (ipykernel)",
   "language": "python",
   "name": "python3"
  },
  "language_info": {
   "codemirror_mode": {
    "name": "ipython",
    "version": 3
   },
   "file_extension": ".py",
   "mimetype": "text/x-python",
   "name": "python",
   "nbconvert_exporter": "python",
   "pygments_lexer": "ipython3",
   "version": "3.7.4"
  }
 },
 "nbformat": 4,
 "nbformat_minor": 5
}
